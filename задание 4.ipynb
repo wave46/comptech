{
 "cells": [
  {
   "cell_type": "code",
   "execution_count": 1,
   "metadata": {},
   "outputs": [],
   "source": [
    "f=open('predators_prey.txt')"
   ]
  },
  {
   "cell_type": "code",
   "execution_count": 2,
   "metadata": {},
   "outputs": [],
   "source": [
    "d={}"
   ]
  },
  {
   "cell_type": "code",
   "execution_count": 3,
   "metadata": {},
   "outputs": [
    {
     "name": "stdout",
     "output_type": "stream",
     "text": [
      "['Bird', 'eats', 'Prawn']\n",
      "['Bird', 'eats', 'Mussels']\n",
      "['Bird', 'eats', 'Crab']\n",
      "['Bird', 'eats', 'Limpets']\n",
      "['Bird', 'eats', 'Whelk']\n",
      "['Crab', 'eats', 'Mussels']\n",
      "['Crab', 'eats', 'Limpets']\n",
      "['Fish', 'eats', 'Prawn']\n",
      "['Limpets', 'eats', 'Seaweed']\n",
      "['Lobster', 'eats', 'Crab']\n",
      "['Lobster', 'eats', 'Mussels']\n",
      "['Lobster', 'eats', 'Limpets']\n",
      "['Lobster', 'eats', 'Whelk']\n",
      "['Mussels', 'eats', 'Phytoplankton']\n",
      "['Mussels', 'eats', 'Zooplankton']\n",
      "['Prawn', 'eats', 'Zooplankton']\n",
      "['Whelk', 'eats', 'Limpets']\n",
      "['Whelk', 'eats', 'Mussels']\n",
      "['Zooplankton', 'eats', 'Phytoplankton']\n"
     ]
    }
   ],
   "source": [
    "for line in f:\n",
    "    line=line.split()\n",
    "    if len(line)==0:\n",
    "        continue\n",
    "    if d.get(line[0])==None:\n",
    "        d[line[0]]=[]\n",
    "    d[line[0]].append(line[-1])\n",
    "            "
   ]
  },
  {
   "cell_type": "code",
   "execution_count": 4,
   "metadata": {},
   "outputs": [],
   "source": [
    "f.close()"
   ]
  },
  {
   "cell_type": "code",
   "execution_count": 5,
   "metadata": {},
   "outputs": [
    {
     "data": {
      "text/plain": [
       "{'Bird': ['Prawn', 'Mussels', 'Crab', 'Limpets', 'Whelk'],\n",
       " 'Crab': ['Mussels', 'Limpets'],\n",
       " 'Fish': ['Prawn'],\n",
       " 'Limpets': ['Seaweed'],\n",
       " 'Lobster': ['Crab', 'Mussels', 'Limpets', 'Whelk'],\n",
       " 'Mussels': ['Phytoplankton', 'Zooplankton'],\n",
       " 'Prawn': ['Zooplankton'],\n",
       " 'Whelk': ['Limpets', 'Mussels'],\n",
       " 'Zooplankton': ['Phytoplankton']}"
      ]
     },
     "execution_count": 5,
     "metadata": {},
     "output_type": "execute_result"
    }
   ],
   "source": [
    "d"
   ]
  },
  {
   "cell_type": "code",
   "execution_count": 6,
   "metadata": {},
   "outputs": [],
   "source": [
    "output = open('output.txt', 'w')"
   ]
  },
  {
   "cell_type": "code",
   "execution_count": 7,
   "metadata": {},
   "outputs": [],
   "source": [
    "output.write('Predators and Prey:\\n')\n",
    "for key in d:\n",
    "    output.write(key+' eats ')\n",
    "    output.write(d[key][0])\n",
    "    for i in range(1,len(d[key])-1):\n",
    "        output.write(', '+d[key][i])\n",
    "    output.write(' and '+d[key][len(d[key])-1])\n",
    "    output.write('\\n')\n",
    "output.close()"
   ]
  },
  {
   "cell_type": "code",
   "execution_count": null,
   "metadata": {},
   "outputs": [],
   "source": []
  }
 ],
 "metadata": {
  "kernelspec": {
   "display_name": "Python 3",
   "language": "python",
   "name": "python3"
  },
  "language_info": {
   "codemirror_mode": {
    "name": "ipython",
    "version": 3
   },
   "file_extension": ".py",
   "mimetype": "text/x-python",
   "name": "python",
   "nbconvert_exporter": "python",
   "pygments_lexer": "ipython3",
   "version": "3.7.1"
  }
 },
 "nbformat": 4,
 "nbformat_minor": 2
}
